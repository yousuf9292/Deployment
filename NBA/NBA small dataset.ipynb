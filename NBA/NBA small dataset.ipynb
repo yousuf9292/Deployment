{
 "cells": [
  {
   "cell_type": "code",
   "execution_count": 1,
   "metadata": {},
   "outputs": [],
   "source": [
    "import pandas as pd"
   ]
  },
  {
   "cell_type": "code",
   "execution_count": 2,
   "metadata": {},
   "outputs": [],
   "source": [
    "df=pd.read_csv('nba.txt')"
   ]
  },
  {
   "cell_type": "code",
   "execution_count": 3,
   "metadata": {},
   "outputs": [],
   "source": [
    "df.dropna(axis=1,inplace=True)"
   ]
  },
  {
   "cell_type": "code",
   "execution_count": 4,
   "metadata": {},
   "outputs": [
    {
     "data": {
      "text/html": [
       "<div>\n",
       "<style scoped>\n",
       "    .dataframe tbody tr th:only-of-type {\n",
       "        vertical-align: middle;\n",
       "    }\n",
       "\n",
       "    .dataframe tbody tr th {\n",
       "        vertical-align: top;\n",
       "    }\n",
       "\n",
       "    .dataframe thead th {\n",
       "        text-align: right;\n",
       "    }\n",
       "</style>\n",
       "<table border=\"1\" class=\"dataframe\">\n",
       "  <thead>\n",
       "    <tr style=\"text-align: right;\">\n",
       "      <th></th>\n",
       "      <th>POS</th>\n",
       "      <th>GP</th>\n",
       "      <th>MIN</th>\n",
       "      <th>PTS</th>\n",
       "      <th>FGM</th>\n",
       "      <th>FGA</th>\n",
       "      <th>FG%</th>\n",
       "      <th>3PM</th>\n",
       "      <th>3PA</th>\n",
       "      <th>3P%</th>\n",
       "      <th>...</th>\n",
       "      <th>FTA</th>\n",
       "      <th>FT%</th>\n",
       "      <th>REB</th>\n",
       "      <th>AST</th>\n",
       "      <th>STL</th>\n",
       "      <th>BLK</th>\n",
       "      <th>TO</th>\n",
       "      <th>DD2</th>\n",
       "      <th>TD3</th>\n",
       "      <th>PER</th>\n",
       "    </tr>\n",
       "  </thead>\n",
       "  <tbody>\n",
       "    <tr>\n",
       "      <td>0</td>\n",
       "      <td>SG</td>\n",
       "      <td>55</td>\n",
       "      <td>36.7</td>\n",
       "      <td>35.2</td>\n",
       "      <td>10.2</td>\n",
       "      <td>23.0</td>\n",
       "      <td>44.3</td>\n",
       "      <td>4.6</td>\n",
       "      <td>12.7</td>\n",
       "      <td>36.3</td>\n",
       "      <td>...</td>\n",
       "      <td>11.8</td>\n",
       "      <td>86.3</td>\n",
       "      <td>6.4</td>\n",
       "      <td>7.3</td>\n",
       "      <td>1.7</td>\n",
       "      <td>0.9</td>\n",
       "      <td>4.4</td>\n",
       "      <td>18</td>\n",
       "      <td>3</td>\n",
       "      <td>29.45</td>\n",
       "    </tr>\n",
       "    <tr>\n",
       "      <td>1</td>\n",
       "      <td>SG</td>\n",
       "      <td>50</td>\n",
       "      <td>35.8</td>\n",
       "      <td>30.1</td>\n",
       "      <td>10.3</td>\n",
       "      <td>22.5</td>\n",
       "      <td>45.7</td>\n",
       "      <td>2.7</td>\n",
       "      <td>8.1</td>\n",
       "      <td>33.3</td>\n",
       "      <td>...</td>\n",
       "      <td>8.1</td>\n",
       "      <td>84.7</td>\n",
       "      <td>4.4</td>\n",
       "      <td>6.0</td>\n",
       "      <td>1.1</td>\n",
       "      <td>0.4</td>\n",
       "      <td>3.4</td>\n",
       "      <td>7</td>\n",
       "      <td>0</td>\n",
       "      <td>22.87</td>\n",
       "    </tr>\n",
       "    <tr>\n",
       "      <td>2</td>\n",
       "      <td>PG</td>\n",
       "      <td>54</td>\n",
       "      <td>35.5</td>\n",
       "      <td>30.1</td>\n",
       "      <td>9.3</td>\n",
       "      <td>20.9</td>\n",
       "      <td>44.3</td>\n",
       "      <td>3.5</td>\n",
       "      <td>9.5</td>\n",
       "      <td>36.9</td>\n",
       "      <td>...</td>\n",
       "      <td>9.3</td>\n",
       "      <td>85.9</td>\n",
       "      <td>4.4</td>\n",
       "      <td>9.2</td>\n",
       "      <td>1.1</td>\n",
       "      <td>0.1</td>\n",
       "      <td>4.8</td>\n",
       "      <td>24</td>\n",
       "      <td>2</td>\n",
       "      <td>24.56</td>\n",
       "    </tr>\n",
       "    <tr>\n",
       "      <td>3</td>\n",
       "      <td>PF</td>\n",
       "      <td>52</td>\n",
       "      <td>30.9</td>\n",
       "      <td>29.7</td>\n",
       "      <td>10.9</td>\n",
       "      <td>19.8</td>\n",
       "      <td>55.1</td>\n",
       "      <td>1.5</td>\n",
       "      <td>4.7</td>\n",
       "      <td>31.4</td>\n",
       "      <td>...</td>\n",
       "      <td>10.3</td>\n",
       "      <td>62.1</td>\n",
       "      <td>13.7</td>\n",
       "      <td>5.8</td>\n",
       "      <td>1.1</td>\n",
       "      <td>1.1</td>\n",
       "      <td>3.7</td>\n",
       "      <td>47</td>\n",
       "      <td>4</td>\n",
       "      <td>32.02</td>\n",
       "    </tr>\n",
       "    <tr>\n",
       "      <td>4</td>\n",
       "      <td>PG</td>\n",
       "      <td>54</td>\n",
       "      <td>37.0</td>\n",
       "      <td>29.5</td>\n",
       "      <td>9.4</td>\n",
       "      <td>20.4</td>\n",
       "      <td>46.0</td>\n",
       "      <td>3.9</td>\n",
       "      <td>10.0</td>\n",
       "      <td>39.3</td>\n",
       "      <td>...</td>\n",
       "      <td>7.7</td>\n",
       "      <td>88.9</td>\n",
       "      <td>4.4</td>\n",
       "      <td>7.9</td>\n",
       "      <td>1.0</td>\n",
       "      <td>0.3</td>\n",
       "      <td>2.9</td>\n",
       "      <td>16</td>\n",
       "      <td>1</td>\n",
       "      <td>26.79</td>\n",
       "    </tr>\n",
       "  </tbody>\n",
       "</table>\n",
       "<p>5 rows × 21 columns</p>\n",
       "</div>"
      ],
      "text/plain": [
       "  POS  GP   MIN   PTS   FGM   FGA   FG%  3PM   3PA   3P%  ...   FTA   FT%  \\\n",
       "0  SG  55  36.7  35.2  10.2  23.0  44.3  4.6  12.7  36.3  ...  11.8  86.3   \n",
       "1  SG  50  35.8  30.1  10.3  22.5  45.7  2.7   8.1  33.3  ...   8.1  84.7   \n",
       "2  PG  54  35.5  30.1   9.3  20.9  44.3  3.5   9.5  36.9  ...   9.3  85.9   \n",
       "3  PF  52  30.9  29.7  10.9  19.8  55.1  1.5   4.7  31.4  ...  10.3  62.1   \n",
       "4  PG  54  37.0  29.5   9.4  20.4  46.0  3.9  10.0  39.3  ...   7.7  88.9   \n",
       "\n",
       "    REB  AST  STL  BLK   TO  DD2  TD3    PER  \n",
       "0   6.4  7.3  1.7  0.9  4.4   18    3  29.45  \n",
       "1   4.4  6.0  1.1  0.4  3.4    7    0  22.87  \n",
       "2   4.4  9.2  1.1  0.1  4.8   24    2  24.56  \n",
       "3  13.7  5.8  1.1  1.1  3.7   47    4  32.02  \n",
       "4   4.4  7.9  1.0  0.3  2.9   16    1  26.79  \n",
       "\n",
       "[5 rows x 21 columns]"
      ]
     },
     "execution_count": 4,
     "metadata": {},
     "output_type": "execute_result"
    }
   ],
   "source": [
    "df.head()"
   ]
  },
  {
   "cell_type": "code",
   "execution_count": 5,
   "metadata": {},
   "outputs": [
    {
     "data": {
      "text/plain": [
       "array(['SG', 'PG', 'PF', 'SF', 'C'], dtype=object)"
      ]
     },
     "execution_count": 5,
     "metadata": {},
     "output_type": "execute_result"
    }
   ],
   "source": [
    "df.POS.unique()"
   ]
  },
  {
   "cell_type": "code",
   "execution_count": 6,
   "metadata": {},
   "outputs": [],
   "source": [
    "import seaborn as sns"
   ]
  },
  {
   "cell_type": "code",
   "execution_count": 7,
   "metadata": {},
   "outputs": [
    {
     "data": {
      "text/plain": [
       "<matplotlib.axes._subplots.AxesSubplot at 0x24087cb4c88>"
      ]
     },
     "execution_count": 7,
     "metadata": {},
     "output_type": "execute_result"
    },
    {
     "data": {
      "image/png": "[encoded data removed]",
      "text/plain": [
       "<Figure size 432x288 with 1 Axes>"
      ]
     },
     "metadata": {
      "needs_background": "light"
     },
     "output_type": "display_data"
    }
   ],
   "source": [
    "sns.countplot('POS',data=df)"
   ]
  },
  {
   "cell_type": "code",
   "execution_count": 8,
   "metadata": {},
   "outputs": [
    {
     "data": {
      "text/plain": [
       "<matplotlib.axes._subplots.AxesSubplot at 0x24089730648>"
      ]
     },
     "execution_count": 8,
     "metadata": {},
     "output_type": "execute_result"
    },
    {
     "data": {
      "image/png": "[encoded data removed]",
      "text/plain": [
       "<Figure size 432x288 with 1 Axes>"
      ]
     },
     "metadata": {
      "needs_background": "light"
     },
     "output_type": "display_data"
    }
   ],
   "source": [
    "sns.scatterplot(x='PTS',y='PER',data=df,hue='POS')"
   ]
  },
  {
   "cell_type": "code",
   "execution_count": 9,
   "metadata": {},
   "outputs": [],
   "source": [
    "X=df.drop('PER',axis=1)"
   ]
  },
  {
   "cell_type": "code",
   "execution_count": 10,
   "metadata": {},
   "outputs": [
    {
     "data": {
      "text/plain": [
       "(50, 20)"
      ]
     },
     "execution_count": 10,
     "metadata": {},
     "output_type": "execute_result"
    }
   ],
   "source": [
    "X.shape"
   ]
  },
  {
   "cell_type": "code",
   "execution_count": 98,
   "metadata": {},
   "outputs": [],
   "source": [
    "y=df.iloc[:,-1]"
   ]
  },
  {
   "cell_type": "code",
   "execution_count": 12,
   "metadata": {},
   "outputs": [
    {
     "data": {
      "text/plain": [
       "(50,)"
      ]
     },
     "execution_count": 12,
     "metadata": {},
     "output_type": "execute_result"
    }
   ],
   "source": [
    "y.shape"
   ]
  },
  {
   "cell_type": "code",
   "execution_count": 13,
   "metadata": {},
   "outputs": [],
   "source": [
    "from sklearn.preprocessing import LabelEncoder"
   ]
  },
  {
   "cell_type": "code",
   "execution_count": 14,
   "metadata": {},
   "outputs": [],
   "source": [
    "le=LabelEncoder()"
   ]
  },
  {
   "cell_type": "code",
   "execution_count": 15,
   "metadata": {},
   "outputs": [],
   "source": [
    "X.POS=le.fit_transform(X.POS)"
   ]
  },
  {
   "cell_type": "code",
   "execution_count": 16,
   "metadata": {},
   "outputs": [],
   "source": [
    "from sklearn.model_selection import train_test_split"
   ]
  },
  {
   "cell_type": "code",
   "execution_count": 17,
   "metadata": {},
   "outputs": [],
   "source": [
    "X_train, X_test, y_train, y_test=train_test_split(X,y,test_size=0.1)"
   ]
  },
  {
   "cell_type": "code",
   "execution_count": 18,
   "metadata": {},
   "outputs": [],
   "source": [
    "from sklearn.preprocessing import MinMaxScaler"
   ]
  },
  {
   "cell_type": "code",
   "execution_count": 19,
   "metadata": {},
   "outputs": [],
   "source": [
    "scaler=MinMaxScaler()"
   ]
  },
  {
   "cell_type": "code",
   "execution_count": 20,
   "metadata": {},
   "outputs": [],
   "source": [
    "X_train=scaler.fit_transform(X_train)"
   ]
  },
  {
   "cell_type": "code",
   "execution_count": 21,
   "metadata": {},
   "outputs": [],
   "source": [
    "X_test=scaler.transform(X_test)"
   ]
  },
  {
   "cell_type": "code",
   "execution_count": 22,
   "metadata": {},
   "outputs": [
    {
     "name": "stderr",
     "output_type": "stream",
     "text": [
      "Using TensorFlow backend.\n"
     ]
    }
   ],
   "source": [
    "from keras.models import Sequential\n",
    "from keras.layers import Dense"
   ]
  },
  {
   "cell_type": "code",
   "execution_count": 23,
   "metadata": {},
   "outputs": [],
   "source": [
    "model=Sequential()"
   ]
  },
  {
   "cell_type": "code",
   "execution_count": 24,
   "metadata": {},
   "outputs": [],
   "source": [
    "model.add(Dense(20,activation='relu',input_shape=(20,)))\n",
    "model.add(Dense(32,activation='relu'))\n",
    "model.add(Dense(32,activation='relu'))\n",
    "model.add(Dense(64,activation='relu'))\n",
    "model.add(Dense(128,activation='relu'))\n",
    "model.add(Dense(1))"
   ]
  },
  {
   "cell_type": "code",
   "execution_count": 25,
   "metadata": {},
   "outputs": [],
   "source": [
    "model.compile(optimizer='adam',loss='mse')"
   ]
  },
  {
   "cell_type": "code",
   "execution_count": 26,
   "metadata": {},
   "outputs": [
    {
     "name": "stdout",
     "output_type": "stream",
     "text": [
      "Model: \"sequential_1\"\n",
      "_________________________________________________________________\n",
      "Layer (type)                 Output Shape              Param #   \n",
      "=================================================================\n",
      "dense_1 (Dense)              (None, 20)                420       \n",
      "_________________________________________________________________\n",
      "dense_2 (Dense)              (None, 32)                672       \n",
      "_________________________________________________________________\n",
      "dense_3 (Dense)              (None, 32)                1056      \n",
      "_________________________________________________________________\n",
      "dense_4 (Dense)              (None, 64)                2112      \n",
      "_________________________________________________________________\n",
      "dense_5 (Dense)              (None, 128)               8320      \n",
      "_________________________________________________________________\n",
      "dense_6 (Dense)              (None, 1)                 129       \n",
      "=================================================================\n",
      "Total params: 12,709\n",
      "Trainable params: 12,709\n",
      "Non-trainable params: 0\n",
      "_________________________________________________________________\n"
     ]
    }
   ],
   "source": [
    "model.summary()"
   ]
  },
  {
   "cell_type": "code",
   "execution_count": 27,
   "metadata": {},
   "outputs": [
    {
     "name": "stdout",
     "output_type": "stream",
     "text": [
      "Train on 45 samples, validate on 5 samples\n",
      "Epoch 1/200\n",
      "45/45 [==============================] - 0s 3ms/step - loss: 439.6837 - val_loss: 419.0992\n",
      "Epoch 2/200\n",
      "45/45 [==============================] - 0s 111us/step - loss: 435.0005 - val_loss: 415.3485\n",
      "Epoch 3/200\n",
      "45/45 [==============================] - 0s 111us/step - loss: 430.6583 - val_loss: 411.2698\n",
      "Epoch 4/200\n",
      "45/45 [==============================] - 0s 89us/step - loss: 425.8411 - val_loss: 406.5125\n",
      "Epoch 5/200\n",
      "45/45 [==============================] - 0s 111us/step - loss: 420.3571 - val_loss: 400.8357\n",
      "Epoch 6/200\n",
      "45/45 [==============================] - 0s 89us/step - loss: 413.8478 - val_loss: 393.8436\n",
      "Epoch 7/200\n",
      "45/45 [==============================] - 0s 133us/step - loss: 405.6146 - val_loss: 385.3893\n",
      "Epoch 8/200\n",
      "45/45 [==============================] - 0s 111us/step - loss: 396.1580 - val_loss: 375.0837\n",
      "Epoch 9/200\n",
      "45/45 [==============================] - 0s 89us/step - loss: 385.0453 - val_loss: 362.4512\n",
      "Epoch 10/200\n",
      "45/45 [==============================] - 0s 89us/step - loss: 370.7487 - val_loss: 347.1208\n",
      "Epoch 11/200\n",
      "45/45 [==============================] - 0s 155us/step - loss: 353.3635 - val_loss: 328.6327\n",
      "Epoch 12/200\n",
      "45/45 [==============================] - 0s 88us/step - loss: 333.2563 - val_loss: 306.4205\n",
      "Epoch 13/200\n",
      "45/45 [==============================] - 0s 111us/step - loss: 308.2734 - val_loss: 280.1093\n",
      "Epoch 14/200\n",
      "45/45 [==============================] - 0s 89us/step - loss: 280.0217 - val_loss: 249.8372\n",
      "Epoch 15/200\n",
      "45/45 [==============================] - 0s 89us/step - loss: 246.7118 - val_loss: 215.1727\n",
      "Epoch 16/200\n",
      "45/45 [==============================] - 0s 178us/step - loss: 209.0403 - val_loss: 175.7624\n",
      "Epoch 17/200\n",
      "45/45 [==============================] - 0s 89us/step - loss: 166.6156 - val_loss: 133.2263\n",
      "Epoch 18/200\n",
      "45/45 [==============================] - 0s 178us/step - loss: 120.7511 - val_loss: 90.2097\n",
      "Epoch 19/200\n",
      "45/45 [==============================] - 0s 89us/step - loss: 77.2527 - val_loss: 51.7190\n",
      "Epoch 20/200\n",
      "45/45 [==============================] - 0s 67us/step - loss: 39.6021 - val_loss: 23.8808\n",
      "Epoch 21/200\n",
      "45/45 [==============================] - 0s 133us/step - loss: 14.3995 - val_loss: 14.1767\n",
      "Epoch 22/200\n",
      "45/45 [==============================] - 0s 89us/step - loss: 12.9658 - val_loss: 23.9288\n",
      "Epoch 23/200\n",
      "45/45 [==============================] - 0s 155us/step - loss: 28.6317 - val_loss: 35.1306\n",
      "Epoch 24/200\n",
      "45/45 [==============================] - 0s 89us/step - loss: 40.4883 - val_loss: 33.1783\n",
      "Epoch 25/200\n",
      "45/45 [==============================] - 0s 67us/step - loss: 36.1122 - val_loss: 23.5941\n",
      "Epoch 26/200\n",
      "45/45 [==============================] - 0s 89us/step - loss: 24.2061 - val_loss: 15.7598\n",
      "Epoch 27/200\n",
      "45/45 [==============================] - 0s 89us/step - loss: 13.8377 - val_loss: 13.3341\n",
      "Epoch 28/200\n",
      "45/45 [==============================] - 0s 89us/step - loss: 9.5781 - val_loss: 14.9599\n",
      "Epoch 29/200\n",
      "45/45 [==============================] - 0s 89us/step - loss: 9.8111 - val_loss: 17.9308\n",
      "Epoch 30/200\n",
      "45/45 [==============================] - 0s 67us/step - loss: 11.5349 - val_loss: 20.1881\n",
      "Epoch 31/200\n",
      "45/45 [==============================] - 0s 133us/step - loss: 13.0989 - val_loss: 20.9440\n",
      "Epoch 32/200\n",
      "45/45 [==============================] - 0s 89us/step - loss: 13.4477 - val_loss: 20.1252\n",
      "Epoch 33/200\n",
      "45/45 [==============================] - 0s 89us/step - loss: 12.4608 - val_loss: 18.0811\n",
      "Epoch 34/200\n",
      "45/45 [==============================] - 0s 89us/step - loss: 10.6863 - val_loss: 15.6645\n",
      "Epoch 35/200\n",
      "45/45 [==============================] - 0s 155us/step - loss: 9.1152 - val_loss: 13.6756\n",
      "Epoch 36/200\n",
      "45/45 [==============================] - 0s 111us/step - loss: 7.5950 - val_loss: 12.4540\n",
      "Epoch 37/200\n",
      "45/45 [==============================] - 0s 156us/step - loss: 7.4483 - val_loss: 11.8463\n",
      "Epoch 38/200\n",
      "45/45 [==============================] - 0s 67us/step - loss: 7.6821 - val_loss: 11.6504\n",
      "Epoch 39/200\n",
      "45/45 [==============================] - 0s 67us/step - loss: 7.9694 - val_loss: 11.5316\n",
      "Epoch 40/200\n",
      "45/45 [==============================] - 0s 89us/step - loss: 7.9108 - val_loss: 11.3924\n",
      "Epoch 41/200\n",
      "45/45 [==============================] - 0s 155us/step - loss: 7.5532 - val_loss: 11.3113\n",
      "Epoch 42/200\n",
      "45/45 [==============================] - 0s 89us/step - loss: 7.0850 - val_loss: 11.3594\n",
      "Epoch 43/200\n",
      "45/45 [==============================] - 0s 133us/step - loss: 6.6531 - val_loss: 11.5453\n",
      "Epoch 44/200\n",
      "45/45 [==============================] - 0s 67us/step - loss: 6.3946 - val_loss: 11.7899\n",
      "Epoch 45/200\n",
      "45/45 [==============================] - 0s 89us/step - loss: 6.1276 - val_loss: 11.9665\n",
      "Epoch 46/200\n",
      "45/45 [==============================] - 0s 267us/step - loss: 6.0678 - val_loss: 12.1282\n",
      "Epoch 47/200\n",
      "45/45 [==============================] - 0s 111us/step - loss: 5.9383 - val_loss: 12.0911\n",
      "Epoch 48/200\n",
      "45/45 [==============================] - 0s 89us/step - loss: 5.7997 - val_loss: 11.9539\n",
      "Epoch 49/200\n",
      "45/45 [==============================] - 0s 89us/step - loss: 5.6580 - val_loss: 11.7213\n",
      "Epoch 50/200\n",
      "45/45 [==============================] - 0s 89us/step - loss: 5.4720 - val_loss: 11.4922\n",
      "Epoch 51/200\n",
      "45/45 [==============================] - 0s 89us/step - loss: 5.3104 - val_loss: 11.1825\n",
      "Epoch 52/200\n",
      "45/45 [==============================] - 0s 111us/step - loss: 5.2092 - val_loss: 10.8274\n",
      "Epoch 53/200\n",
      "45/45 [==============================] - 0s 89us/step - loss: 5.1313 - val_loss: 10.6246\n",
      "Epoch 54/200\n",
      "45/45 [==============================] - 0s 89us/step - loss: 5.0470 - val_loss: 10.5805\n",
      "Epoch 55/200\n",
      "45/45 [==============================] - 0s 67us/step - loss: 4.9278 - val_loss: 10.6747\n",
      "Epoch 56/200\n",
      "45/45 [==============================] - 0s 111us/step - loss: 4.7850 - val_loss: 10.7902\n",
      "Epoch 57/200\n",
      "45/45 [==============================] - 0s 89us/step - loss: 4.6663 - val_loss: 10.8879\n",
      "Epoch 58/200\n",
      "45/45 [==============================] - 0s 133us/step - loss: 4.5721 - val_loss: 10.9612\n",
      "Epoch 59/200\n",
      "45/45 [==============================] - 0s 111us/step - loss: 4.4930 - val_loss: 11.0215\n",
      "Epoch 60/200\n",
      "45/45 [==============================] - 0s 67us/step - loss: 4.4059 - val_loss: 10.9449\n",
      "Epoch 61/200\n",
      "45/45 [==============================] - 0s 89us/step - loss: 4.3080 - val_loss: 10.8452\n",
      "Epoch 62/200\n",
      "45/45 [==============================] - 0s 133us/step - loss: 4.2104 - val_loss: 10.6501\n",
      "Epoch 63/200\n",
      "45/45 [==============================] - 0s 111us/step - loss: 4.1229 - val_loss: 10.4084\n",
      "Epoch 64/200\n",
      "45/45 [==============================] - 0s 89us/step - loss: 4.0443 - val_loss: 10.2181\n",
      "Epoch 65/200\n",
      "45/45 [==============================] - 0s 89us/step - loss: 3.9814 - val_loss: 10.0578\n",
      "Epoch 66/200\n",
      "45/45 [==============================] - 0s 178us/step - loss: 3.9362 - val_loss: 10.0108\n",
      "Epoch 67/200\n",
      "45/45 [==============================] - 0s 89us/step - loss: 3.8589 - val_loss: 10.1313\n",
      "Epoch 68/200\n",
      "45/45 [==============================] - 0s 89us/step - loss: 3.7728 - val_loss: 10.2200\n",
      "Epoch 69/200\n",
      "45/45 [==============================] - 0s 133us/step - loss: 3.7085 - val_loss: 10.2713\n",
      "Epoch 70/200\n",
      "45/45 [==============================] - 0s 89us/step - loss: 3.6458 - val_loss: 10.3834\n",
      "Epoch 71/200\n",
      "45/45 [==============================] - 0s 111us/step - loss: 3.6020 - val_loss: 10.4423\n",
      "Epoch 72/200\n",
      "45/45 [==============================] - 0s 111us/step - loss: 3.5631 - val_loss: 10.3615\n",
      "Epoch 73/200\n",
      "45/45 [==============================] - 0s 89us/step - loss: 3.5035 - val_loss: 10.2603\n",
      "Epoch 74/200\n",
      "45/45 [==============================] - 0s 89us/step - loss: 3.4485 - val_loss: 10.0983\n",
      "Epoch 75/200\n",
      "45/45 [==============================] - 0s 89us/step - loss: 3.3978 - val_loss: 9.8339\n",
      "Epoch 76/200\n",
      "45/45 [==============================] - 0s 89us/step - loss: 3.3360 - val_loss: 9.6979\n",
      "Epoch 77/200\n",
      "45/45 [==============================] - 0s 89us/step - loss: 3.2851 - val_loss: 9.6661\n",
      "Epoch 78/200\n",
      "45/45 [==============================] - 0s 111us/step - loss: 3.2381 - val_loss: 9.7126\n",
      "Epoch 79/200\n",
      "45/45 [==============================] - ETA: 0s - loss: 3.337 - 0s 89us/step - loss: 3.1939 - val_loss: 9.7715\n"
     ]
    },
    {
     "name": "stdout",
     "output_type": "stream",
     "text": [
      "Epoch 80/200\n",
      "45/45 [==============================] - 0s 89us/step - loss: 3.1715 - val_loss: 9.7821\n",
      "Epoch 81/200\n",
      "45/45 [==============================] - 0s 89us/step - loss: 3.1085 - val_loss: 9.5597\n",
      "Epoch 82/200\n",
      "45/45 [==============================] - 0s 89us/step - loss: 3.0562 - val_loss: 9.3442\n",
      "Epoch 83/200\n",
      "45/45 [==============================] - 0s 133us/step - loss: 3.0103 - val_loss: 9.1647\n",
      "Epoch 84/200\n",
      "45/45 [==============================] - 0s 111us/step - loss: 2.9763 - val_loss: 8.9940\n",
      "Epoch 85/200\n",
      "45/45 [==============================] - 0s 111us/step - loss: 2.9576 - val_loss: 8.9285\n",
      "Epoch 86/200\n",
      "45/45 [==============================] - 0s 89us/step - loss: 2.9208 - val_loss: 9.0808\n",
      "Epoch 87/200\n",
      "45/45 [==============================] - 0s 133us/step - loss: 2.8451 - val_loss: 9.5094\n",
      "Epoch 88/200\n",
      "45/45 [==============================] - 0s 67us/step - loss: 2.7977 - val_loss: 9.8346\n",
      "Epoch 89/200\n",
      "45/45 [==============================] - 0s 111us/step - loss: 2.8210 - val_loss: 9.9993\n",
      "Epoch 90/200\n",
      "45/45 [==============================] - 0s 111us/step - loss: 2.8052 - val_loss: 9.8125\n",
      "Epoch 91/200\n",
      "45/45 [==============================] - 0s 89us/step - loss: 2.7430 - val_loss: 9.4862\n",
      "Epoch 92/200\n",
      "45/45 [==============================] - 0s 89us/step - loss: 2.6744 - val_loss: 9.1342\n",
      "Epoch 93/200\n",
      "45/45 [==============================] - 0s 111us/step - loss: 2.6007 - val_loss: 8.8711\n",
      "Epoch 94/200\n",
      "45/45 [==============================] - 0s 89us/step - loss: 2.5680 - val_loss: 8.6396\n",
      "Epoch 95/200\n",
      "45/45 [==============================] - 0s 89us/step - loss: 2.5515 - val_loss: 8.5145\n",
      "Epoch 96/200\n",
      "45/45 [==============================] - 0s 89us/step - loss: 2.5224 - val_loss: 8.5367\n",
      "Epoch 97/200\n",
      "45/45 [==============================] - 0s 111us/step - loss: 2.4704 - val_loss: 8.7160\n",
      "Epoch 98/200\n",
      "45/45 [==============================] - 0s 111us/step - loss: 2.4351 - val_loss: 8.8635\n",
      "Epoch 99/200\n",
      "45/45 [==============================] - 0s 89us/step - loss: 2.3952 - val_loss: 8.8493\n",
      "Epoch 100/200\n",
      "45/45 [==============================] - 0s 89us/step - loss: 2.3652 - val_loss: 8.8025\n",
      "Epoch 101/200\n",
      "45/45 [==============================] - 0s 89us/step - loss: 2.3284 - val_loss: 8.6272\n",
      "Epoch 102/200\n",
      "45/45 [==============================] - 0s 111us/step - loss: 2.2832 - val_loss: 8.3568\n",
      "Epoch 103/200\n",
      "45/45 [==============================] - 0s 89us/step - loss: 2.2596 - val_loss: 8.1005\n",
      "Epoch 104/200\n",
      "45/45 [==============================] - 0s 111us/step - loss: 2.2438 - val_loss: 7.9298\n",
      "Epoch 105/200\n",
      "45/45 [==============================] - 0s 89us/step - loss: 2.2319 - val_loss: 7.8481\n",
      "Epoch 106/200\n",
      "45/45 [==============================] - 0s 111us/step - loss: 2.1966 - val_loss: 7.9021\n",
      "Epoch 107/200\n",
      "45/45 [==============================] - 0s 89us/step - loss: 2.1608 - val_loss: 8.0612\n",
      "Epoch 108/200\n",
      "45/45 [==============================] - 0s 111us/step - loss: 2.1209 - val_loss: 8.0998\n",
      "Epoch 109/200\n",
      "45/45 [==============================] - 0s 89us/step - loss: 2.0857 - val_loss: 8.0375\n",
      "Epoch 110/200\n",
      "45/45 [==============================] - 0s 111us/step - loss: 2.0510 - val_loss: 8.0638\n",
      "Epoch 111/200\n",
      "45/45 [==============================] - 0s 89us/step - loss: 2.0219 - val_loss: 8.0795\n",
      "Epoch 112/200\n",
      "45/45 [==============================] - 0s 89us/step - loss: 1.9968 - val_loss: 8.0959\n",
      "Epoch 113/200\n",
      "45/45 [==============================] - 0s 89us/step - loss: 1.9729 - val_loss: 8.0697\n",
      "Epoch 114/200\n",
      "45/45 [==============================] - 0s 89us/step - loss: 1.9485 - val_loss: 7.9188\n",
      "Epoch 115/200\n",
      "45/45 [==============================] - 0s 111us/step - loss: 1.9150 - val_loss: 7.6556\n",
      "Epoch 116/200\n",
      "45/45 [==============================] - 0s 67us/step - loss: 1.8996 - val_loss: 7.3297\n",
      "Epoch 117/200\n",
      "45/45 [==============================] - 0s 89us/step - loss: 1.8865 - val_loss: 7.2076\n",
      "Epoch 118/200\n",
      "45/45 [==============================] - 0s 111us/step - loss: 1.8692 - val_loss: 7.2480\n",
      "Epoch 119/200\n",
      "45/45 [==============================] - 0s 89us/step - loss: 1.8346 - val_loss: 7.4397\n",
      "Epoch 120/200\n",
      "45/45 [==============================] - 0s 89us/step - loss: 1.7995 - val_loss: 7.5403\n",
      "Epoch 121/200\n",
      "45/45 [==============================] - 0s 89us/step - loss: 1.7822 - val_loss: 7.5066\n",
      "Epoch 122/200\n",
      "45/45 [==============================] - 0s 89us/step - loss: 1.7554 - val_loss: 7.3508\n",
      "Epoch 123/200\n",
      "45/45 [==============================] - 0s 89us/step - loss: 1.7360 - val_loss: 7.1683\n",
      "Epoch 124/200\n",
      "45/45 [==============================] - 0s 89us/step - loss: 1.7219 - val_loss: 7.1134\n",
      "Epoch 125/200\n",
      "45/45 [==============================] - 0s 89us/step - loss: 1.6946 - val_loss: 7.2021\n",
      "Epoch 126/200\n",
      "45/45 [==============================] - 0s 89us/step - loss: 1.6797 - val_loss: 7.1849\n",
      "Epoch 127/200\n",
      "45/45 [==============================] - 0s 89us/step - loss: 1.6477 - val_loss: 7.0354\n",
      "Epoch 128/200\n",
      "45/45 [==============================] - 0s 89us/step - loss: 1.6489 - val_loss: 6.9650\n",
      "Epoch 129/200\n",
      "45/45 [==============================] - 0s 111us/step - loss: 1.6056 - val_loss: 7.0946\n",
      "Epoch 130/200\n",
      "45/45 [==============================] - 0s 89us/step - loss: 1.5878 - val_loss: 7.1980\n",
      "Epoch 131/200\n",
      "45/45 [==============================] - 0s 89us/step - loss: 1.5992 - val_loss: 7.1503\n",
      "Epoch 132/200\n",
      "45/45 [==============================] - 0s 89us/step - loss: 1.5613 - val_loss: 6.8388\n",
      "Epoch 133/200\n",
      "45/45 [==============================] - 0s 111us/step - loss: 1.5267 - val_loss: 6.6125\n",
      "Epoch 134/200\n",
      "45/45 [==============================] - 0s 89us/step - loss: 1.5144 - val_loss: 6.4785\n",
      "Epoch 135/200\n",
      "45/45 [==============================] - 0s 89us/step - loss: 1.5015 - val_loss: 6.4321\n",
      "Epoch 136/200\n",
      "45/45 [==============================] - 0s 111us/step - loss: 1.4797 - val_loss: 6.4909\n",
      "Epoch 137/200\n",
      "45/45 [==============================] - 0s 67us/step - loss: 1.4543 - val_loss: 6.6416\n",
      "Epoch 138/200\n",
      "45/45 [==============================] - 0s 111us/step - loss: 1.4458 - val_loss: 6.7127\n",
      "Epoch 139/200\n",
      "45/45 [==============================] - 0s 111us/step - loss: 1.4257 - val_loss: 6.5848\n",
      "Epoch 140/200\n",
      "45/45 [==============================] - 0s 89us/step - loss: 1.3964 - val_loss: 6.3591\n",
      "Epoch 141/200\n",
      "45/45 [==============================] - 0s 89us/step - loss: 1.3905 - val_loss: 6.2093\n",
      "Epoch 142/200\n",
      "45/45 [==============================] - 0s 89us/step - loss: 1.3780 - val_loss: 6.2328\n",
      "Epoch 143/200\n",
      "45/45 [==============================] - 0s 89us/step - loss: 1.3674 - val_loss: 6.3177\n",
      "Epoch 144/200\n",
      "45/45 [==============================] - 0s 111us/step - loss: 1.3335 - val_loss: 6.2952\n",
      "Epoch 145/200\n",
      "45/45 [==============================] - 0s 577us/step - loss: 1.3151 - val_loss: 6.2992\n",
      "Epoch 146/200\n",
      "45/45 [==============================] - 0s 67us/step - loss: 1.3016 - val_loss: 6.2829\n",
      "Epoch 147/200\n",
      "45/45 [==============================] - 0s 89us/step - loss: 1.2872 - val_loss: 6.3019\n",
      "Epoch 148/200\n",
      "45/45 [==============================] - 0s 89us/step - loss: 1.2815 - val_loss: 6.2487\n",
      "Epoch 149/200\n",
      "45/45 [==============================] - 0s 89us/step - loss: 1.2579 - val_loss: 5.9969\n",
      "Epoch 150/200\n",
      "45/45 [==============================] - 0s 111us/step - loss: 1.2412 - val_loss: 5.6867\n",
      "Epoch 151/200\n",
      "45/45 [==============================] - 0s 111us/step - loss: 1.2494 - val_loss: 5.5854\n",
      "Epoch 152/200\n",
      "45/45 [==============================] - 0s 200us/step - loss: 1.2455 - val_loss: 5.6503\n",
      "Epoch 153/200\n",
      "45/45 [==============================] - 0s 89us/step - loss: 1.2122 - val_loss: 5.8398\n",
      "Epoch 154/200\n",
      "45/45 [==============================] - 0s 111us/step - loss: 1.1760 - val_loss: 6.0174\n",
      "Epoch 155/200\n",
      "45/45 [==============================] - 0s 111us/step - loss: 1.1775 - val_loss: 6.1278\n",
      "Epoch 156/200\n",
      "45/45 [==============================] - 0s 89us/step - loss: 1.1868 - val_loss: 6.0845\n",
      "Epoch 157/200\n",
      "45/45 [==============================] - ETA: 0s - loss: 1.266 - 0s 111us/step - loss: 1.1671 - val_loss: 5.8795\n",
      "Epoch 158/200\n",
      "45/45 [==============================] - 0s 89us/step - loss: 1.1342 - val_loss: 5.6125\n",
      "Epoch 159/200\n",
      "45/45 [==============================] - 0s 89us/step - loss: 1.1181 - val_loss: 5.4191\n"
     ]
    },
    {
     "name": "stdout",
     "output_type": "stream",
     "text": [
      "Epoch 160/200\n",
      "45/45 [==============================] - 0s 111us/step - loss: 1.1289 - val_loss: 5.3431\n",
      "Epoch 161/200\n",
      "45/45 [==============================] - 0s 89us/step - loss: 1.1235 - val_loss: 5.4240\n",
      "Epoch 162/200\n",
      "45/45 [==============================] - 0s 89us/step - loss: 1.1273 - val_loss: 5.5519\n",
      "Epoch 163/200\n",
      "45/45 [==============================] - 0s 111us/step - loss: 1.0746 - val_loss: 5.4788\n",
      "Epoch 164/200\n",
      "45/45 [==============================] - 0s 89us/step - loss: 1.0710 - val_loss: 5.3848\n",
      "Epoch 165/200\n",
      "45/45 [==============================] - 0s 89us/step - loss: 1.0471 - val_loss: 5.4377\n",
      "Epoch 166/200\n",
      "45/45 [==============================] - 0s 89us/step - loss: 1.0372 - val_loss: 5.5013\n",
      "Epoch 167/200\n",
      "45/45 [==============================] - 0s 89us/step - loss: 1.0375 - val_loss: 5.5178\n",
      "Epoch 168/200\n",
      "45/45 [==============================] - 0s 89us/step - loss: 1.0225 - val_loss: 5.3745\n",
      "Epoch 169/200\n",
      "45/45 [==============================] - 0s 89us/step - loss: 1.0049 - val_loss: 5.1856\n",
      "Epoch 170/200\n",
      "45/45 [==============================] - 0s 89us/step - loss: 0.9959 - val_loss: 5.0885\n",
      "Epoch 171/200\n",
      "45/45 [==============================] - 0s 89us/step - loss: 0.9992 - val_loss: 5.0541\n",
      "Epoch 172/200\n",
      "45/45 [==============================] - 0s 89us/step - loss: 0.9893 - val_loss: 5.1479\n",
      "Epoch 173/200\n",
      "45/45 [==============================] - 0s 89us/step - loss: 0.9646 - val_loss: 5.2671\n",
      "Epoch 174/200\n",
      "45/45 [==============================] - 0s 89us/step - loss: 0.9519 - val_loss: 5.3829\n",
      "Epoch 175/200\n",
      "45/45 [==============================] - 0s 89us/step - loss: 0.9510 - val_loss: 5.4039\n",
      "Epoch 176/200\n",
      "45/45 [==============================] - 0s 89us/step - loss: 0.9443 - val_loss: 5.2598\n",
      "Epoch 177/200\n",
      "45/45 [==============================] - 0s 89us/step - loss: 0.9224 - val_loss: 4.9875\n",
      "Epoch 178/200\n",
      "45/45 [==============================] - 0s 111us/step - loss: 0.9266 - val_loss: 4.8191\n",
      "Epoch 179/200\n",
      "45/45 [==============================] - 0s 89us/step - loss: 0.9287 - val_loss: 4.8023\n",
      "Epoch 180/200\n",
      "45/45 [==============================] - 0s 89us/step - loss: 0.9101 - val_loss: 4.8486\n",
      "Epoch 181/200\n",
      "45/45 [==============================] - 0s 111us/step - loss: 0.8866 - val_loss: 4.9908\n",
      "Epoch 182/200\n",
      "45/45 [==============================] - 0s 89us/step - loss: 0.8962 - val_loss: 5.0849\n",
      "Epoch 183/200\n",
      "45/45 [==============================] - 0s 89us/step - loss: 0.8850 - val_loss: 4.9409\n",
      "Epoch 184/200\n",
      "45/45 [==============================] - 0s 89us/step - loss: 0.8584 - val_loss: 4.6988\n",
      "Epoch 185/200\n",
      "45/45 [==============================] - 0s 67us/step - loss: 0.8624 - val_loss: 4.5505\n",
      "Epoch 186/200\n",
      "45/45 [==============================] - 0s 89us/step - loss: 0.8715 - val_loss: 4.5578\n",
      "Epoch 187/200\n",
      "45/45 [==============================] - 0s 111us/step - loss: 0.8591 - val_loss: 4.6803\n",
      "Epoch 188/200\n",
      "45/45 [==============================] - 0s 89us/step - loss: 0.8314 - val_loss: 4.7377\n",
      "Epoch 189/200\n",
      "45/45 [==============================] - 0s 89us/step - loss: 0.8271 - val_loss: 4.7036\n",
      "Epoch 190/200\n",
      "45/45 [==============================] - 0s 111us/step - loss: 0.8242 - val_loss: 4.6319\n",
      "Epoch 191/200\n",
      "45/45 [==============================] - 0s 89us/step - loss: 0.8168 - val_loss: 4.6279\n",
      "Epoch 192/200\n",
      "45/45 [==============================] - 0s 111us/step - loss: 0.8018 - val_loss: 4.6765\n",
      "Epoch 193/200\n",
      "45/45 [==============================] - 0s 111us/step - loss: 0.7952 - val_loss: 4.6721\n",
      "Epoch 194/200\n",
      "45/45 [==============================] - 0s 89us/step - loss: 0.7890 - val_loss: 4.6656\n",
      "Epoch 195/200\n",
      "45/45 [==============================] - 0s 89us/step - loss: 0.7824 - val_loss: 4.6559\n",
      "Epoch 196/200\n",
      "45/45 [==============================] - 0s 111us/step - loss: 0.7767 - val_loss: 4.5248\n",
      "Epoch 197/200\n",
      "45/45 [==============================] - 0s 111us/step - loss: 0.7788 - val_loss: 4.3975\n",
      "Epoch 198/200\n",
      "45/45 [==============================] - 0s 89us/step - loss: 0.7595 - val_loss: 4.3921\n",
      "Epoch 199/200\n",
      "45/45 [==============================] - 0s 111us/step - loss: 0.7531 - val_loss: 4.3501\n",
      "Epoch 200/200\n",
      "45/45 [==============================] - 0s 89us/step - loss: 0.7481 - val_loss: 4.2771\n"
     ]
    },
    {
     "data": {
      "text/plain": [
       "<keras.callbacks.callbacks.History at 0x2408fdac508>"
      ]
     },
     "execution_count": 27,
     "metadata": {},
     "output_type": "execute_result"
    }
   ],
   "source": [
    "model.fit(X_train,y_train,validation_data=(X_test,y_test),epochs=200,batch_size=32)"
   ]
  },
  {
   "cell_type": "code",
   "execution_count": 28,
   "metadata": {},
   "outputs": [],
   "source": [
    "losses=pd.DataFrame(model.history.history)"
   ]
  },
  {
   "cell_type": "code",
   "execution_count": 29,
   "metadata": {},
   "outputs": [
    {
     "data": {
      "text/plain": [
       "<matplotlib.axes._subplots.AxesSubplot at 0x2408f9c1f08>"
      ]
     },
     "execution_count": 29,
     "metadata": {},
     "output_type": "execute_result"
    },
    {
     "data": {
      "image/png": "[encoded data removed]",
      "text/plain": [
       "<Figure size 432x288 with 1 Axes>"
      ]
     },
     "metadata": {
      "needs_background": "light"
     },
     "output_type": "display_data"
    }
   ],
   "source": [
    "losses.plot()"
   ]
  },
  {
   "cell_type": "code",
   "execution_count": 30,
   "metadata": {},
   "outputs": [],
   "source": [
    "from sklearn.metrics import mean_squared_error,mean_absolute_error,explained_variance_score"
   ]
  },
  {
   "cell_type": "code",
   "execution_count": 31,
   "metadata": {},
   "outputs": [],
   "source": [
    "import numpy as np"
   ]
  },
  {
   "cell_type": "code",
   "execution_count": 32,
   "metadata": {},
   "outputs": [],
   "source": [
    "y_pred=model.predict(X_test)"
   ]
  },
  {
   "cell_type": "code",
   "execution_count": 33,
   "metadata": {},
   "outputs": [
    {
     "data": {
      "text/plain": [
       "2.0681145522379274"
      ]
     },
     "execution_count": 33,
     "metadata": {},
     "output_type": "execute_result"
    }
   ],
   "source": [
    "np.sqrt(mean_squared_error(y_test,y_pred))"
   ]
  },
  {
   "cell_type": "code",
   "execution_count": 34,
   "metadata": {},
   "outputs": [
    {
     "data": {
      "text/plain": [
       "1.6089125366210937"
      ]
     },
     "execution_count": 34,
     "metadata": {},
     "output_type": "execute_result"
    }
   ],
   "source": [
    "mean_absolute_error(y_test,y_pred)"
   ]
  },
  {
   "cell_type": "code",
   "execution_count": 35,
   "metadata": {},
   "outputs": [
    {
     "data": {
      "text/plain": [
       "count    50.000000\n",
       "mean     20.448200\n",
       "std       4.216199\n",
       "min      15.040000\n",
       "25%      16.995000\n",
       "50%      19.685000\n",
       "75%      22.645000\n",
       "max      32.020000\n",
       "Name: PER, dtype: float64"
      ]
     },
     "execution_count": 35,
     "metadata": {},
     "output_type": "execute_result"
    }
   ],
   "source": [
    "df['PER'].describe()"
   ]
  },
  {
   "cell_type": "code",
   "execution_count": 36,
   "metadata": {},
   "outputs": [
    {
     "data": {
      "text/plain": [
       "20.4482"
      ]
     },
     "execution_count": 36,
     "metadata": {},
     "output_type": "execute_result"
    }
   ],
   "source": [
    "20.448200"
   ]
  },
  {
   "cell_type": "code",
   "execution_count": 37,
   "metadata": {},
   "outputs": [
    {
     "data": {
      "text/plain": [
       "0.7817353769040132"
      ]
     },
     "execution_count": 37,
     "metadata": {},
     "output_type": "execute_result"
    }
   ],
   "source": [
    " explained_variance_score(y_test,y_pred)"
   ]
  },
  {
   "cell_type": "code",
   "execution_count": 38,
   "metadata": {},
   "outputs": [],
   "source": [
    "import matplotlib.pyplot as plt"
   ]
  },
  {
   "cell_type": "code",
   "execution_count": 39,
   "metadata": {},
   "outputs": [
    {
     "data": {
      "text/plain": [
       "[<matplotlib.lines.Line2D at 0x24090efec88>]"
      ]
     },
     "execution_count": 39,
     "metadata": {},
     "output_type": "execute_result"
    },
    {
     "data": {
      "image/png": "[encoded data removed]",
      "text/plain": [
       "<Figure size 432x288 with 1 Axes>"
      ]
     },
     "metadata": {
      "needs_background": "light"
     },
     "output_type": "display_data"
    }
   ],
   "source": [
    "plt.scatter(y_test,y_pred)\n",
    "plt.plot(y_test,y_test,'r')"
   ]
  },
  {
   "cell_type": "code",
   "execution_count": 42,
   "metadata": {},
   "outputs": [],
   "source": [
    "import random\n",
    "\n",
    "random.seed()\n",
    "random_ind=random.randint(0,len(df))\n",
    "\n",
    "new_player=df.drop('PER',axis=1).iloc[random_ind]"
   ]
  },
  {
   "cell_type": "code",
   "execution_count": 45,
   "metadata": {},
   "outputs": [
    {
     "data": {
      "text/plain": [
       "array(['C', 'PF', 'PG', 'SF', 'SG'], dtype=object)"
      ]
     },
     "execution_count": 45,
     "metadata": {},
     "output_type": "execute_result"
    }
   ],
   "source": [
    "le.classes_"
   ]
  },
  {
   "cell_type": "code",
   "execution_count": 44,
   "metadata": {},
   "outputs": [
    {
     "data": {
      "text/plain": [
       "POS      SG\n",
       "GP       48\n",
       "MIN    35.8\n",
       "PTS    17.6\n",
       "FGM       6\n",
       "FGA    14.6\n",
       "FG%    40.9\n",
       "3PM     2.7\n",
       "3PA       7\n",
       "3P%    38.8\n",
       "FTM     2.9\n",
       "FTA     3.5\n",
       "FT%    84.3\n",
       "REB     3.8\n",
       "AST     6.6\n",
       "STL     1.9\n",
       "BLK     0.3\n",
       "TO      2.3\n",
       "DD2       6\n",
       "TD3       0\n",
       "Name: 49, dtype: object"
      ]
     },
     "execution_count": 44,
     "metadata": {},
     "output_type": "execute_result"
    }
   ],
   "source": [
    "new_player"
   ]
  },
  {
   "cell_type": "code",
   "execution_count": 46,
   "metadata": {},
   "outputs": [],
   "source": [
    "new_player[0]=4"
   ]
  },
  {
   "cell_type": "code",
   "execution_count": 47,
   "metadata": {},
   "outputs": [],
   "source": [
    "new_player=scaler.transform(new_player.values.reshape(-1,20))"
   ]
  },
  {
   "cell_type": "code",
   "execution_count": 48,
   "metadata": {},
   "outputs": [
    {
     "data": {
      "text/plain": [
       "array([[16.317257]], dtype=float32)"
      ]
     },
     "execution_count": 48,
     "metadata": {},
     "output_type": "execute_result"
    }
   ],
   "source": [
    "model.predict(new_player)"
   ]
  },
  {
   "cell_type": "code",
   "execution_count": 49,
   "metadata": {},
   "outputs": [
    {
     "data": {
      "text/plain": [
       "16.08"
      ]
     },
     "execution_count": 49,
     "metadata": {},
     "output_type": "execute_result"
    }
   ],
   "source": [
    "df.iloc[random_ind]['PER']"
   ]
  },
  {
   "cell_type": "markdown",
   "metadata": {},
   "source": [
    "#  train on full data set"
   ]
  },
  {
   "cell_type": "code",
   "execution_count": 88,
   "metadata": {},
   "outputs": [],
   "source": [
    "scaler_full=scaler.fit_transform(X)"
   ]
  },
  {
   "cell_type": "code",
   "execution_count": 89,
   "metadata": {},
   "outputs": [
    {
     "data": {
      "text/plain": [
       "50"
      ]
     },
     "execution_count": 89,
     "metadata": {},
     "output_type": "execute_result"
    }
   ],
   "source": [
    "len(scaler_full)"
   ]
  },
  {
   "cell_type": "code",
   "execution_count": 102,
   "metadata": {},
   "outputs": [],
   "source": [
    "model=Sequential()"
   ]
  },
  {
   "cell_type": "code",
   "execution_count": 103,
   "metadata": {},
   "outputs": [],
   "source": [
    "model.add(Dense(20,activation='relu',input_shape=(20,)))\n",
    "model.add(Dense(32,activation='relu'))\n",
    "model.add(Dense(32,activation='relu'))\n",
    "model.add(Dense(64,activation='relu'))\n",
    "model.add(Dense(128,activation='relu'))\n",
    "model.add(Dense(1))"
   ]
  },
  {
   "cell_type": "code",
   "execution_count": 104,
   "metadata": {},
   "outputs": [],
   "source": [
    "model.compile(optimizer='adam',loss='mse')"
   ]
  },
  {
   "cell_type": "code",
   "execution_count": 105,
   "metadata": {},
   "outputs": [
    {
     "name": "stdout",
     "output_type": "stream",
     "text": [
      "Epoch 1/200\n",
      "50/50 [==============================] - 0s 2ms/step - loss: 435.7143\n",
      "Epoch 2/200\n",
      "50/50 [==============================] - 0s 60us/step - loss: 432.2553\n",
      "Epoch 3/200\n",
      "50/50 [==============================] - 0s 60us/step - loss: 428.9519\n",
      "Epoch 4/200\n",
      "50/50 [==============================] - 0s 60us/step - loss: 425.0887\n",
      "Epoch 5/200\n",
      "50/50 [==============================] - 0s 80us/step - loss: 420.2952\n",
      "Epoch 6/200\n",
      "50/50 [==============================] - 0s 80us/step - loss: 414.7111\n",
      "Epoch 7/200\n",
      "50/50 [==============================] - 0s 160us/step - loss: 407.4772\n",
      "Epoch 8/200\n",
      "50/50 [==============================] - 0s 80us/step - loss: 399.1453\n",
      "Epoch 9/200\n",
      "50/50 [==============================] - 0s 180us/step - loss: 388.1492\n",
      "Epoch 10/200\n",
      "50/50 [==============================] - 0s 80us/step - loss: 375.3794\n",
      "Epoch 11/200\n",
      "50/50 [==============================] - 0s 100us/step - loss: 359.1081\n",
      "Epoch 12/200\n",
      "50/50 [==============================] - 0s 100us/step - loss: 339.1026\n",
      "Epoch 13/200\n",
      "50/50 [==============================] - 0s 60us/step - loss: 315.0770\n",
      "Epoch 14/200\n",
      "50/50 [==============================] - 0s 60us/step - loss: 287.1917\n",
      "Epoch 15/200\n",
      "50/50 [==============================] - 0s 100us/step - loss: 253.5274\n",
      "Epoch 16/200\n",
      "50/50 [==============================] - 0s 80us/step - loss: 215.5954\n",
      "Epoch 17/200\n",
      "50/50 [==============================] - 0s 80us/step - loss: 173.7342\n",
      "Epoch 18/200\n",
      "50/50 [==============================] - 0s 120us/step - loss: 128.1325\n",
      "Epoch 19/200\n",
      "50/50 [==============================] - 0s 120us/step - loss: 82.3633\n",
      "Epoch 20/200\n",
      "50/50 [==============================] - 0s 60us/step - loss: 43.0085\n",
      "Epoch 21/200\n",
      "50/50 [==============================] - 0s 60us/step - loss: 15.9612\n",
      "Epoch 22/200\n",
      "50/50 [==============================] - 0s 60us/step - loss: 11.3908\n",
      "Epoch 23/200\n",
      "50/50 [==============================] - 0s 160us/step - loss: 27.0044\n",
      "Epoch 24/200\n",
      "50/50 [==============================] - 0s 80us/step - loss: 39.4230\n",
      "Epoch 25/200\n",
      "50/50 [==============================] - 0s 140us/step - loss: 36.5254\n",
      "Epoch 26/200\n",
      "50/50 [==============================] - 0s 60us/step - loss: 24.4543\n",
      "Epoch 27/200\n",
      "50/50 [==============================] - 0s 60us/step - loss: 13.4362\n",
      "Epoch 28/200\n",
      "50/50 [==============================] - 0s 60us/step - loss: 9.2390\n",
      "Epoch 29/200\n",
      "50/50 [==============================] - 0s 100us/step - loss: 8.9733\n",
      "Epoch 30/200\n",
      "50/50 [==============================] - 0s 100us/step - loss: 11.5998\n",
      "Epoch 31/200\n",
      "50/50 [==============================] - 0s 80us/step - loss: 13.3406\n",
      "Epoch 32/200\n",
      "50/50 [==============================] - 0s 80us/step - loss: 13.6505\n",
      "Epoch 33/200\n",
      "50/50 [==============================] - 0s 60us/step - loss: 12.5387\n",
      "Epoch 34/200\n",
      "50/50 [==============================] - 0s 60us/step - loss: 10.5156\n",
      "Epoch 35/200\n",
      "50/50 [==============================] - 0s 60us/step - loss: 8.6147\n",
      "Epoch 36/200\n",
      "50/50 [==============================] - 0s 120us/step - loss: 7.7052\n",
      "Epoch 37/200\n",
      "50/50 [==============================] - 0s 80us/step - loss: 7.3468\n",
      "Epoch 38/200\n",
      "50/50 [==============================] - 0s 220us/step - loss: 7.8499\n",
      "Epoch 39/200\n",
      "50/50 [==============================] - 0s 100us/step - loss: 8.2778\n",
      "Epoch 40/200\n",
      "50/50 [==============================] - 0s 80us/step - loss: 8.3626\n",
      "Epoch 41/200\n",
      "50/50 [==============================] - 0s 80us/step - loss: 8.0510\n",
      "Epoch 42/200\n",
      "50/50 [==============================] - 0s 60us/step - loss: 7.2716\n",
      "Epoch 43/200\n",
      "50/50 [==============================] - 0s 60us/step - loss: 6.8319\n",
      "Epoch 44/200\n",
      "50/50 [==============================] - 0s 60us/step - loss: 6.6757\n",
      "Epoch 45/200\n",
      "50/50 [==============================] - 0s 120us/step - loss: 6.7233\n",
      "Epoch 46/200\n",
      "50/50 [==============================] - 0s 60us/step - loss: 6.8077\n",
      "Epoch 47/200\n",
      "50/50 [==============================] - 0s 60us/step - loss: 6.8235\n",
      "Epoch 48/200\n",
      "50/50 [==============================] - 0s 160us/step - loss: 6.6750\n",
      "Epoch 49/200\n",
      "50/50 [==============================] - 0s 80us/step - loss: 6.4689\n",
      "Epoch 50/200\n",
      "50/50 [==============================] - 0s 80us/step - loss: 6.2496\n",
      "Epoch 51/200\n",
      "50/50 [==============================] - 0s 140us/step - loss: 6.1264\n",
      "Epoch 52/200\n",
      "50/50 [==============================] - 0s 60us/step - loss: 6.0566\n",
      "Epoch 53/200\n",
      "50/50 [==============================] - 0s 80us/step - loss: 6.0991\n",
      "Epoch 54/200\n",
      "50/50 [==============================] - 0s 120us/step - loss: 6.0122\n",
      "Epoch 55/200\n",
      "50/50 [==============================] - 0s 80us/step - loss: 5.8862\n",
      "Epoch 56/200\n",
      "50/50 [==============================] - 0s 80us/step - loss: 5.7659\n",
      "Epoch 57/200\n",
      "50/50 [==============================] - 0s 120us/step - loss: 5.7043\n",
      "Epoch 58/200\n",
      "50/50 [==============================] - 0s 100us/step - loss: 5.6151\n",
      "Epoch 59/200\n",
      "50/50 [==============================] - 0s 60us/step - loss: 5.5482\n",
      "Epoch 60/200\n",
      "50/50 [==============================] - 0s 80us/step - loss: 5.4629\n",
      "Epoch 61/200\n",
      "50/50 [==============================] - 0s 80us/step - loss: 5.4116\n",
      "Epoch 62/200\n",
      "50/50 [==============================] - 0s 80us/step - loss: 5.3124\n",
      "Epoch 63/200\n",
      "50/50 [==============================] - 0s 100us/step - loss: 5.2345\n",
      "Epoch 64/200\n",
      "50/50 [==============================] - 0s 100us/step - loss: 5.1861\n",
      "Epoch 65/200\n",
      "50/50 [==============================] - 0s 60us/step - loss: 5.0972\n",
      "Epoch 66/200\n",
      "50/50 [==============================] - 0s 60us/step - loss: 5.0280\n",
      "Epoch 67/200\n",
      "50/50 [==============================] - 0s 80us/step - loss: 4.9610\n",
      "Epoch 68/200\n",
      "50/50 [==============================] - 0s 160us/step - loss: 4.9227\n",
      "Epoch 69/200\n",
      "50/50 [==============================] - 0s 100us/step - loss: 4.8225\n",
      "Epoch 70/200\n",
      "50/50 [==============================] - 0s 80us/step - loss: 4.7664\n",
      "Epoch 71/200\n",
      "50/50 [==============================] - 0s 60us/step - loss: 4.6728\n",
      "Epoch 72/200\n",
      "50/50 [==============================] - 0s 120us/step - loss: 4.6141\n",
      "Epoch 73/200\n",
      "50/50 [==============================] - 0s 60us/step - loss: 4.5680\n",
      "Epoch 74/200\n",
      "50/50 [==============================] - 0s 80us/step - loss: 4.4679\n",
      "Epoch 75/200\n",
      "50/50 [==============================] - 0s 80us/step - loss: 4.4163\n",
      "Epoch 76/200\n",
      "50/50 [==============================] - 0s 100us/step - loss: 4.3396\n",
      "Epoch 77/200\n",
      "50/50 [==============================] - 0s 80us/step - loss: 4.2770\n",
      "Epoch 78/200\n",
      "50/50 [==============================] - 0s 80us/step - loss: 4.2055\n",
      "Epoch 79/200\n",
      "50/50 [==============================] - 0s 100us/step - loss: 4.1434\n",
      "Epoch 80/200\n",
      "50/50 [==============================] - 0s 80us/step - loss: 4.0716\n",
      "Epoch 81/200\n",
      "50/50 [==============================] - 0s 80us/step - loss: 4.0183\n",
      "Epoch 82/200\n",
      "50/50 [==============================] - 0s 80us/step - loss: 3.9563\n",
      "Epoch 83/200\n",
      "50/50 [==============================] - 0s 80us/step - loss: 3.8846\n",
      "Epoch 84/200\n",
      "50/50 [==============================] - 0s 80us/step - loss: 3.8403\n",
      "Epoch 85/200\n",
      "50/50 [==============================] - 0s 80us/step - loss: 3.7858\n",
      "Epoch 86/200\n",
      "50/50 [==============================] - 0s 80us/step - loss: 3.7009\n",
      "Epoch 87/200\n",
      "50/50 [==============================] - 0s 100us/step - loss: 3.6550\n",
      "Epoch 88/200\n",
      "50/50 [==============================] - 0s 60us/step - loss: 3.6109\n",
      "Epoch 89/200\n",
      "50/50 [==============================] - 0s 60us/step - loss: 3.5594\n",
      "Epoch 90/200\n",
      "50/50 [==============================] - 0s 80us/step - loss: 3.4871\n",
      "Epoch 91/200\n",
      "50/50 [==============================] - 0s 80us/step - loss: 3.4104\n",
      "Epoch 92/200\n",
      "50/50 [==============================] - 0s 60us/step - loss: 3.3545\n",
      "Epoch 93/200\n",
      "50/50 [==============================] - 0s 100us/step - loss: 3.3078\n",
      "Epoch 94/200\n",
      "50/50 [==============================] - 0s 80us/step - loss: 3.2568\n",
      "Epoch 95/200\n",
      "50/50 [==============================] - 0s 100us/step - loss: 3.2110\n",
      "Epoch 96/200\n",
      "50/50 [==============================] - 0s 100us/step - loss: 3.1550\n",
      "Epoch 97/200\n",
      "50/50 [==============================] - 0s 80us/step - loss: 3.1099\n",
      "Epoch 98/200\n",
      "50/50 [==============================] - 0s 100us/step - loss: 3.0431\n",
      "Epoch 99/200\n",
      "50/50 [==============================] - 0s 100us/step - loss: 2.9946\n",
      "Epoch 100/200\n"
     ]
    },
    {
     "name": "stdout",
     "output_type": "stream",
     "text": [
      "50/50 [==============================] - 0s 80us/step - loss: 2.9436\n",
      "Epoch 101/200\n",
      "50/50 [==============================] - 0s 100us/step - loss: 2.8938\n",
      "Epoch 102/200\n",
      "50/50 [==============================] - 0s 100us/step - loss: 2.8295\n",
      "Epoch 103/200\n",
      "50/50 [==============================] - 0s 60us/step - loss: 2.7868\n",
      "Epoch 104/200\n",
      "50/50 [==============================] - 0s 60us/step - loss: 2.7316\n",
      "Epoch 105/200\n",
      "50/50 [==============================] - 0s 80us/step - loss: 2.6729\n",
      "Epoch 106/200\n",
      "50/50 [==============================] - 0s 80us/step - loss: 2.6436\n",
      "Epoch 107/200\n",
      "50/50 [==============================] - 0s 100us/step - loss: 2.5756\n",
      "Epoch 108/200\n",
      "50/50 [==============================] - 0s 60us/step - loss: 2.5213\n",
      "Epoch 109/200\n",
      "50/50 [==============================] - 0s 80us/step - loss: 2.4858\n",
      "Epoch 110/200\n",
      "50/50 [==============================] - 0s 60us/step - loss: 2.4377\n",
      "Epoch 111/200\n",
      "50/50 [==============================] - 0s 60us/step - loss: 2.3887\n",
      "Epoch 112/200\n",
      "50/50 [==============================] - 0s 80us/step - loss: 2.3263\n",
      "Epoch 113/200\n",
      "50/50 [==============================] - 0s 80us/step - loss: 2.2640\n",
      "Epoch 114/200\n",
      "50/50 [==============================] - 0s 80us/step - loss: 2.2159\n",
      "Epoch 115/200\n",
      "50/50 [==============================] - 0s 120us/step - loss: 2.1897\n",
      "Epoch 116/200\n",
      "50/50 [==============================] - 0s 80us/step - loss: 2.1367\n",
      "Epoch 117/200\n",
      "50/50 [==============================] - 0s 80us/step - loss: 2.0832\n",
      "Epoch 118/200\n",
      "50/50 [==============================] - 0s 60us/step - loss: 2.0517\n",
      "Epoch 119/200\n",
      "50/50 [==============================] - 0s 60us/step - loss: 2.0041\n",
      "Epoch 120/200\n",
      "50/50 [==============================] - 0s 80us/step - loss: 1.9615\n",
      "Epoch 121/200\n",
      "50/50 [==============================] - 0s 60us/step - loss: 1.9139\n",
      "Epoch 122/200\n",
      "50/50 [==============================] - 0s 80us/step - loss: 1.8620\n",
      "Epoch 123/200\n",
      "50/50 [==============================] - 0s 80us/step - loss: 1.8292\n",
      "Epoch 124/200\n",
      "50/50 [==============================] - 0s 60us/step - loss: 1.7843\n",
      "Epoch 125/200\n",
      "50/50 [==============================] - 0s 80us/step - loss: 1.7602\n",
      "Epoch 126/200\n",
      "50/50 [==============================] - 0s 80us/step - loss: 1.7142\n",
      "Epoch 127/200\n",
      "50/50 [==============================] - 0s 80us/step - loss: 1.6776\n",
      "Epoch 128/200\n",
      "50/50 [==============================] - 0s 80us/step - loss: 1.6545\n",
      "Epoch 129/200\n",
      "50/50 [==============================] - 0s 80us/step - loss: 1.6257\n",
      "Epoch 130/200\n",
      "50/50 [==============================] - 0s 80us/step - loss: 1.6168\n",
      "Epoch 131/200\n",
      "50/50 [==============================] - 0s 60us/step - loss: 1.5847\n",
      "Epoch 132/200\n",
      "50/50 [==============================] - 0s 100us/step - loss: 1.5364\n",
      "Epoch 133/200\n",
      "50/50 [==============================] - 0s 80us/step - loss: 1.5126\n",
      "Epoch 134/200\n",
      "50/50 [==============================] - 0s 80us/step - loss: 1.4999\n",
      "Epoch 135/200\n",
      "50/50 [==============================] - 0s 120us/step - loss: 1.4772\n",
      "Epoch 136/200\n",
      "50/50 [==============================] - 0s 80us/step - loss: 1.4560\n",
      "Epoch 137/200\n",
      "50/50 [==============================] - 0s 80us/step - loss: 1.4228\n",
      "Epoch 138/200\n",
      "50/50 [==============================] - 0s 100us/step - loss: 1.4318\n",
      "Epoch 139/200\n",
      "50/50 [==============================] - 0s 60us/step - loss: 1.4026\n",
      "Epoch 140/200\n",
      "50/50 [==============================] - 0s 80us/step - loss: 1.3821\n",
      "Epoch 141/200\n",
      "50/50 [==============================] - 0s 80us/step - loss: 1.3824\n",
      "Epoch 142/200\n",
      "50/50 [==============================] - 0s 60us/step - loss: 1.3428\n",
      "Epoch 143/200\n",
      "50/50 [==============================] - 0s 60us/step - loss: 1.3067\n",
      "Epoch 144/200\n",
      "50/50 [==============================] - 0s 60us/step - loss: 1.3158\n",
      "Epoch 145/200\n",
      "50/50 [==============================] - 0s 60us/step - loss: 1.3235\n",
      "Epoch 146/200\n",
      "50/50 [==============================] - 0s 80us/step - loss: 1.2853\n",
      "Epoch 147/200\n",
      "50/50 [==============================] - 0s 60us/step - loss: 1.2497\n",
      "Epoch 148/200\n",
      "50/50 [==============================] - 0s 80us/step - loss: 1.2460\n",
      "Epoch 149/200\n",
      "50/50 [==============================] - 0s 60us/step - loss: 1.2245\n",
      "Epoch 150/200\n",
      "50/50 [==============================] - 0s 80us/step - loss: 1.2154\n",
      "Epoch 151/200\n",
      "50/50 [==============================] - 0s 80us/step - loss: 1.1974\n",
      "Epoch 152/200\n",
      "50/50 [==============================] - 0s 100us/step - loss: 1.1819\n",
      "Epoch 153/200\n",
      "50/50 [==============================] - 0s 60us/step - loss: 1.1829\n",
      "Epoch 154/200\n",
      "50/50 [==============================] - 0s 80us/step - loss: 1.1623\n",
      "Epoch 155/200\n",
      "50/50 [==============================] - 0s 80us/step - loss: 1.1428\n",
      "Epoch 156/200\n",
      "50/50 [==============================] - 0s 100us/step - loss: 1.1230\n",
      "Epoch 157/200\n",
      "50/50 [==============================] - 0s 80us/step - loss: 1.1083\n",
      "Epoch 158/200\n",
      "50/50 [==============================] - 0s 80us/step - loss: 1.0949\n",
      "Epoch 159/200\n",
      "50/50 [==============================] - 0s 80us/step - loss: 1.0858\n",
      "Epoch 160/200\n",
      "50/50 [==============================] - 0s 80us/step - loss: 1.0683\n",
      "Epoch 161/200\n",
      "50/50 [==============================] - 0s 80us/step - loss: 1.0639\n",
      "Epoch 162/200\n",
      "50/50 [==============================] - 0s 60us/step - loss: 1.0488\n",
      "Epoch 163/200\n",
      "50/50 [==============================] - 0s 80us/step - loss: 1.0373\n",
      "Epoch 164/200\n",
      "50/50 [==============================] - 0s 80us/step - loss: 1.0172\n",
      "Epoch 165/200\n",
      "50/50 [==============================] - 0s 80us/step - loss: 1.0090\n",
      "Epoch 166/200\n",
      "50/50 [==============================] - 0s 60us/step - loss: 1.0134\n",
      "Epoch 167/200\n",
      "50/50 [==============================] - 0s 60us/step - loss: 0.9828\n",
      "Epoch 168/200\n",
      "50/50 [==============================] - 0s 80us/step - loss: 0.9766\n",
      "Epoch 169/200\n",
      "50/50 [==============================] - 0s 60us/step - loss: 0.9857\n",
      "Epoch 170/200\n",
      "50/50 [==============================] - 0s 60us/step - loss: 0.9584\n",
      "Epoch 171/200\n",
      "50/50 [==============================] - 0s 80us/step - loss: 0.9388\n",
      "Epoch 172/200\n",
      "50/50 [==============================] - 0s 60us/step - loss: 0.9256\n",
      "Epoch 173/200\n",
      "50/50 [==============================] - 0s 60us/step - loss: 0.9187\n",
      "Epoch 174/200\n",
      "50/50 [==============================] - 0s 60us/step - loss: 0.9097\n",
      "Epoch 175/200\n",
      "50/50 [==============================] - 0s 80us/step - loss: 0.8954\n",
      "Epoch 176/200\n",
      "50/50 [==============================] - 0s 80us/step - loss: 0.9051\n",
      "Epoch 177/200\n",
      "50/50 [==============================] - 0s 80us/step - loss: 0.8724\n",
      "Epoch 178/200\n",
      "50/50 [==============================] - 0s 80us/step - loss: 0.8577\n",
      "Epoch 179/200\n",
      "50/50 [==============================] - 0s 80us/step - loss: 0.8838\n",
      "Epoch 180/200\n",
      "50/50 [==============================] - 0s 80us/step - loss: 0.8493\n",
      "Epoch 181/200\n",
      "50/50 [==============================] - 0s 80us/step - loss: 0.8258\n",
      "Epoch 182/200\n",
      "50/50 [==============================] - 0s 60us/step - loss: 0.8437\n",
      "Epoch 183/200\n",
      "50/50 [==============================] - 0s 80us/step - loss: 0.8319\n",
      "Epoch 184/200\n",
      "50/50 [==============================] - 0s 60us/step - loss: 0.8154\n",
      "Epoch 185/200\n",
      "50/50 [==============================] - 0s 80us/step - loss: 0.8367\n",
      "Epoch 186/200\n",
      "50/50 [==============================] - 0s 80us/step - loss: 0.7879\n",
      "Epoch 187/200\n",
      "50/50 [==============================] - 0s 60us/step - loss: 0.7518\n",
      "Epoch 188/200\n",
      "50/50 [==============================] - 0s 100us/step - loss: 0.7955\n",
      "Epoch 189/200\n",
      "50/50 [==============================] - 0s 80us/step - loss: 0.8046\n",
      "Epoch 190/200\n",
      "50/50 [==============================] - 0s 80us/step - loss: 0.7334\n",
      "Epoch 191/200\n",
      "50/50 [==============================] - 0s 100us/step - loss: 0.7606\n",
      "Epoch 192/200\n",
      "50/50 [==============================] - 0s 60us/step - loss: 0.7426\n",
      "Epoch 193/200\n",
      "50/50 [==============================] - 0s 80us/step - loss: 0.6970\n",
      "Epoch 194/200\n",
      "50/50 [==============================] - 0s 60us/step - loss: 0.6911\n",
      "Epoch 195/200\n",
      "50/50 [==============================] - 0s 60us/step - loss: 0.6987\n",
      "Epoch 196/200\n",
      "50/50 [==============================] - 0s 60us/step - loss: 0.6674\n",
      "Epoch 197/200\n",
      "50/50 [==============================] - 0s 80us/step - loss: 0.6930\n",
      "Epoch 198/200\n"
     ]
    },
    {
     "name": "stdout",
     "output_type": "stream",
     "text": [
      "50/50 [==============================] - 0s 80us/step - loss: 0.6825\n",
      "Epoch 199/200\n",
      "50/50 [==============================] - 0s 60us/step - loss: 0.6466\n",
      "Epoch 200/200\n",
      "50/50 [==============================] - 0s 60us/step - loss: 0.6458\n"
     ]
    },
    {
     "data": {
      "text/plain": [
       "<keras.callbacks.callbacks.History at 0x24099304ec8>"
      ]
     },
     "execution_count": 105,
     "metadata": {},
     "output_type": "execute_result"
    }
   ],
   "source": [
    "model.fit(scaler_full,y,epochs=200,batch_size=32)"
   ]
  },
  {
   "cell_type": "code",
   "execution_count": 106,
   "metadata": {},
   "outputs": [],
   "source": [
    "losses=pd.DataFrame(model.history.history)"
   ]
  },
  {
   "cell_type": "code",
   "execution_count": 107,
   "metadata": {},
   "outputs": [
    {
     "data": {
      "text/plain": [
       "<matplotlib.axes._subplots.AxesSubplot at 0x2409922e248>"
      ]
     },
     "execution_count": 107,
     "metadata": {},
     "output_type": "execute_result"
    },
    {
     "data": {
      "image/png": "[encoded data removed]",
      "text/plain": [
       "<Figure size 432x288 with 1 Axes>"
      ]
     },
     "metadata": {
      "needs_background": "light"
     },
     "output_type": "display_data"
    }
   ],
   "source": [
    "losses.plot()"
   ]
  },
  {
   "cell_type": "code",
   "execution_count": 109,
   "metadata": {},
   "outputs": [],
   "source": [
    "y_pred=model.predict(scaler_full)"
   ]
  },
  {
   "cell_type": "code",
   "execution_count": 110,
   "metadata": {},
   "outputs": [],
   "source": [
    "import matplotlib.pyplot as plt"
   ]
  },
  {
   "cell_type": "code",
   "execution_count": 111,
   "metadata": {},
   "outputs": [
    {
     "data": {
      "text/plain": [
       "[<matplotlib.lines.Line2D at 0x2409a38b808>]"
      ]
     },
     "execution_count": 111,
     "metadata": {},
     "output_type": "execute_result"
    },
    {
     "data": {
      "image/png": "[encoded data removed]",
      "text/plain": [
       "<Figure size 432x288 with 1 Axes>"
      ]
     },
     "metadata": {
      "needs_background": "light"
     },
     "output_type": "display_data"
    }
   ],
   "source": [
    "plt.scatter(y,y_pred)\n",
    "plt.plot(y_test,y_test,'r')"
   ]
  },
  {
   "cell_type": "code",
   "execution_count": 112,
   "metadata": {},
   "outputs": [],
   "source": [
    "model.save('nba.h5')"
   ]
  },
  {
   "cell_type": "code",
   "execution_count": 113,
   "metadata": {},
   "outputs": [],
   "source": [
    "import joblib"
   ]
  },
  {
   "cell_type": "code",
   "execution_count": 144,
   "metadata": {},
   "outputs": [
    {
     "data": {
      "text/plain": [
       "['nba.pickle']"
      ]
     },
     "execution_count": 144,
     "metadata": {},
     "output_type": "execute_result"
    }
   ],
   "source": [
    "joblib.dump(scaler,'nba.pickle')"
   ]
  },
  {
   "cell_type": "code",
   "execution_count": 132,
   "metadata": {},
   "outputs": [
    {
     "data": {
      "text/plain": [
       "array(['C', 'PF', 'PG', 'SF', 'SG'], dtype=object)"
      ]
     },
     "execution_count": 132,
     "metadata": {},
     "output_type": "execute_result"
    }
   ],
   "source": [
    "le.classes_"
   ]
  },
  {
   "cell_type": "code",
   "execution_count": 136,
   "metadata": {},
   "outputs": [
    {
     "data": {
      "text/html": [
       "<div>\n",
       "<style scoped>\n",
       "    .dataframe tbody tr th:only-of-type {\n",
       "        vertical-align: middle;\n",
       "    }\n",
       "\n",
       "    .dataframe tbody tr th {\n",
       "        vertical-align: top;\n",
       "    }\n",
       "\n",
       "    .dataframe thead th {\n",
       "        text-align: right;\n",
       "    }\n",
       "</style>\n",
       "<table border=\"1\" class=\"dataframe\">\n",
       "  <thead>\n",
       "    <tr style=\"text-align: right;\">\n",
       "      <th></th>\n",
       "      <th>POS</th>\n",
       "      <th>GP</th>\n",
       "      <th>MIN</th>\n",
       "      <th>PTS</th>\n",
       "      <th>FGM</th>\n",
       "      <th>FGA</th>\n",
       "      <th>FG%</th>\n",
       "      <th>3PM</th>\n",
       "      <th>3PA</th>\n",
       "      <th>3P%</th>\n",
       "      <th>FTM</th>\n",
       "      <th>FTA</th>\n",
       "      <th>FT%</th>\n",
       "      <th>REB</th>\n",
       "      <th>AST</th>\n",
       "      <th>STL</th>\n",
       "      <th>BLK</th>\n",
       "      <th>TO</th>\n",
       "      <th>DD2</th>\n",
       "      <th>TD3</th>\n",
       "    </tr>\n",
       "  </thead>\n",
       "  <tbody>\n",
       "    <tr>\n",
       "      <td>0</td>\n",
       "      <td>4</td>\n",
       "      <td>55</td>\n",
       "      <td>36.7</td>\n",
       "      <td>35.2</td>\n",
       "      <td>10.2</td>\n",
       "      <td>23.0</td>\n",
       "      <td>44.3</td>\n",
       "      <td>4.6</td>\n",
       "      <td>12.7</td>\n",
       "      <td>36.3</td>\n",
       "      <td>10.2</td>\n",
       "      <td>11.8</td>\n",
       "      <td>86.3</td>\n",
       "      <td>6.4</td>\n",
       "      <td>7.3</td>\n",
       "      <td>1.7</td>\n",
       "      <td>0.9</td>\n",
       "      <td>4.4</td>\n",
       "      <td>18</td>\n",
       "      <td>3</td>\n",
       "    </tr>\n",
       "    <tr>\n",
       "      <td>1</td>\n",
       "      <td>4</td>\n",
       "      <td>50</td>\n",
       "      <td>35.8</td>\n",
       "      <td>30.1</td>\n",
       "      <td>10.3</td>\n",
       "      <td>22.5</td>\n",
       "      <td>45.7</td>\n",
       "      <td>2.7</td>\n",
       "      <td>8.1</td>\n",
       "      <td>33.3</td>\n",
       "      <td>6.9</td>\n",
       "      <td>8.1</td>\n",
       "      <td>84.7</td>\n",
       "      <td>4.4</td>\n",
       "      <td>6.0</td>\n",
       "      <td>1.1</td>\n",
       "      <td>0.4</td>\n",
       "      <td>3.4</td>\n",
       "      <td>7</td>\n",
       "      <td>0</td>\n",
       "    </tr>\n",
       "    <tr>\n",
       "      <td>2</td>\n",
       "      <td>2</td>\n",
       "      <td>54</td>\n",
       "      <td>35.5</td>\n",
       "      <td>30.1</td>\n",
       "      <td>9.3</td>\n",
       "      <td>20.9</td>\n",
       "      <td>44.3</td>\n",
       "      <td>3.5</td>\n",
       "      <td>9.5</td>\n",
       "      <td>36.9</td>\n",
       "      <td>8.0</td>\n",
       "      <td>9.3</td>\n",
       "      <td>85.9</td>\n",
       "      <td>4.4</td>\n",
       "      <td>9.2</td>\n",
       "      <td>1.1</td>\n",
       "      <td>0.1</td>\n",
       "      <td>4.8</td>\n",
       "      <td>24</td>\n",
       "      <td>2</td>\n",
       "    </tr>\n",
       "    <tr>\n",
       "      <td>3</td>\n",
       "      <td>1</td>\n",
       "      <td>52</td>\n",
       "      <td>30.9</td>\n",
       "      <td>29.7</td>\n",
       "      <td>10.9</td>\n",
       "      <td>19.8</td>\n",
       "      <td>55.1</td>\n",
       "      <td>1.5</td>\n",
       "      <td>4.7</td>\n",
       "      <td>31.4</td>\n",
       "      <td>6.4</td>\n",
       "      <td>10.3</td>\n",
       "      <td>62.1</td>\n",
       "      <td>13.7</td>\n",
       "      <td>5.8</td>\n",
       "      <td>1.1</td>\n",
       "      <td>1.1</td>\n",
       "      <td>3.7</td>\n",
       "      <td>47</td>\n",
       "      <td>4</td>\n",
       "    </tr>\n",
       "    <tr>\n",
       "      <td>4</td>\n",
       "      <td>2</td>\n",
       "      <td>54</td>\n",
       "      <td>37.0</td>\n",
       "      <td>29.5</td>\n",
       "      <td>9.4</td>\n",
       "      <td>20.4</td>\n",
       "      <td>46.0</td>\n",
       "      <td>3.9</td>\n",
       "      <td>10.0</td>\n",
       "      <td>39.3</td>\n",
       "      <td>6.8</td>\n",
       "      <td>7.7</td>\n",
       "      <td>88.9</td>\n",
       "      <td>4.4</td>\n",
       "      <td>7.9</td>\n",
       "      <td>1.0</td>\n",
       "      <td>0.3</td>\n",
       "      <td>2.9</td>\n",
       "      <td>16</td>\n",
       "      <td>1</td>\n",
       "    </tr>\n",
       "  </tbody>\n",
       "</table>\n",
       "</div>"
      ],
      "text/plain": [
       "   POS  GP   MIN   PTS   FGM   FGA   FG%  3PM   3PA   3P%   FTM   FTA   FT%  \\\n",
       "0    4  55  36.7  35.2  10.2  23.0  44.3  4.6  12.7  36.3  10.2  11.8  86.3   \n",
       "1    4  50  35.8  30.1  10.3  22.5  45.7  2.7   8.1  33.3   6.9   8.1  84.7   \n",
       "2    2  54  35.5  30.1   9.3  20.9  44.3  3.5   9.5  36.9   8.0   9.3  85.9   \n",
       "3    1  52  30.9  29.7  10.9  19.8  55.1  1.5   4.7  31.4   6.4  10.3  62.1   \n",
       "4    2  54  37.0  29.5   9.4  20.4  46.0  3.9  10.0  39.3   6.8   7.7  88.9   \n",
       "\n",
       "    REB  AST  STL  BLK   TO  DD2  TD3  \n",
       "0   6.4  7.3  1.7  0.9  4.4   18    3  \n",
       "1   4.4  6.0  1.1  0.4  3.4    7    0  \n",
       "2   4.4  9.2  1.1  0.1  4.8   24    2  \n",
       "3  13.7  5.8  1.1  1.1  3.7   47    4  \n",
       "4   4.4  7.9  1.0  0.3  2.9   16    1  "
      ]
     },
     "execution_count": 136,
     "metadata": {},
     "output_type": "execute_result"
    }
   ],
   "source": [
    "X.head()"
   ]
  },
  {
   "cell_type": "code",
   "execution_count": 126,
   "metadata": {},
   "outputs": [
    {
     "data": {
      "text/plain": [
       "0    29.45\n",
       "1    22.87\n",
       "2    24.56\n",
       "3    32.02\n",
       "4    26.79\n",
       "Name: PER, dtype: float64"
      ]
     },
     "execution_count": 126,
     "metadata": {},
     "output_type": "execute_result"
    }
   ],
   "source": [
    "y.head()"
   ]
  },
  {
   "cell_type": "code",
   "execution_count": 137,
   "metadata": {},
   "outputs": [],
   "source": [
    "player_sample={\n",
    "    \"POS\":4,\n",
    "    \"GP\":55,\n",
    "    \"MIN\":36.7,\n",
    "    \"PTS\":35.2,\n",
    "    \"FGM\":10.2,\n",
    "    \"FGA\":23.0,\n",
    "    \"FG%\":44.3,\n",
    "    \"3PM\":4.6,\n",
    "    \"3PA\":12.7,\n",
    "    \"3P%\":36.3,\n",
    "    \"FTM\":10.2,\n",
    "    \"FTA\":11.8,\n",
    "    \"FT%\":86.3,\n",
    "    \"REB\":6.4,\n",
    "    \"AST\":7.3,\n",
    "    \"STL\":1.7,\n",
    "    \"BLK\":0.9,\n",
    "    \"TO\":4.4,\n",
    "    \"DD2\":18,\n",
    "    \"TD3\":3\n",
    "}"
   ]
  },
  {
   "cell_type": "code",
   "execution_count": 138,
   "metadata": {},
   "outputs": [],
   "source": [
    "from keras.models import load_model"
   ]
  },
  {
   "cell_type": "code",
   "execution_count": 203,
   "metadata": {},
   "outputs": [],
   "source": [
    "from keras.models import load_model\n",
    "import numpy as np\n",
    "\n",
    "load_model=load_model('nba.h5')\n",
    "scaler_model=joblib.load('nab.pickle')\n",
    "\n",
    "\n",
    "def return_predictions(model,scaler,sample_json):\n",
    "    POS= sample_json[\"POS\"]\n",
    "    GP= sample_json[\"GP\"]\n",
    "    MIN= sample_json[\"MIN\"]\n",
    "    PTS= sample_json[\"PTS\"]\n",
    "    FGM= sample_json[\"FGM\"]\n",
    "    FGA= sample_json[\"FGA\"]\n",
    "    FG= sample_json[\"FG%\"]\n",
    "    PM= sample_json[\"3PM\"]\n",
    "    PA= sample_json[\"3PA\"]\n",
    "    P= sample_json[\"3P%\"]\n",
    "    FTM= sample_json[\"FTM\"]\n",
    "    FTA= sample_json[\"FTA\"]\n",
    "    FT= sample_json[\"FT%\"]\n",
    "    FTM= sample_json[\"FTM\"]\n",
    "    FTA= sample_json[\"FTA\"]\n",
    "    FT= sample_json[\"FT%\"]\n",
    "    REB= sample_json[\"REB\"]\n",
    "    AST= sample_json[\"AST\"]\n",
    "    STL= sample_json[\"STL\"]\n",
    "    BLK= sample_json[\"BLK\"]\n",
    "    TO= sample_json[\"TO\"]\n",
    "    DD2= sample_json[\"DD2\"]\n",
    "    TD3= sample_json[\"TD3\"]\n",
    "    \n",
    "    value = max(y.values)\n",
    "    \n",
    "    \n",
    "    player=[[POS, GP, MIN, PTS, FGM, FGA, FG, PM, PA, P, FTM, FTA, FT, REB, AST, STL, BLK, TO, DD2, TD3]]\n",
    "    \n",
    "    player=scaler.transform(player)\n",
    "    \n",
    "    prediction=model.predict(player)\n",
    "    print(\"player\",value)\n",
    "\n",
    "    return prediction[0][0]"
   ]
  },
  {
   "cell_type": "code",
   "execution_count": 204,
   "metadata": {},
   "outputs": [
    {
     "name": "stdout",
     "output_type": "stream",
     "text": [
      "player 32.02\n"
     ]
    },
    {
     "data": {
      "text/plain": [
       "28.705498"
      ]
     },
     "execution_count": 204,
     "metadata": {},
     "output_type": "execute_result"
    }
   ],
   "source": [
    "return_predictions(load_model,scaler_model,player_sample)"
   ]
  },
  {
   "cell_type": "code",
   "execution_count": 186,
   "metadata": {},
   "outputs": [
    {
     "data": {
      "text/plain": [
       "0     29.45\n",
       "1     22.87\n",
       "2     24.56\n",
       "3     32.02\n",
       "4     26.79\n",
       "5     28.81\n",
       "6     21.61\n",
       "7     26.73\n",
       "8     28.18\n",
       "9     20.16\n",
       "10    19.69\n",
       "11    25.62\n",
       "12    20.40\n",
       "13    19.59\n",
       "14    19.23\n",
       "15    20.64\n",
       "16    25.75\n",
       "17    21.91\n",
       "18    16.60\n",
       "19    16.68\n",
       "20    21.12\n",
       "21    22.39\n",
       "22    25.76\n",
       "23    17.75\n",
       "24    23.75\n",
       "25    17.36\n",
       "26    15.75\n",
       "27    16.26\n",
       "28    15.97\n",
       "29    17.71\n",
       "30    17.49\n",
       "31    17.01\n",
       "32    19.68\n",
       "33    17.10\n",
       "34    16.99\n",
       "35    16.78\n",
       "36    21.67\n",
       "37    16.88\n",
       "38    16.39\n",
       "39    18.04\n",
       "40    19.96\n",
       "41    19.26\n",
       "42    15.04\n",
       "43    22.73\n",
       "44    15.73\n",
       "45    17.45\n",
       "46    20.84\n",
       "47    20.77\n",
       "48    15.41\n",
       "49    16.08\n",
       "Name: PER, dtype: float64"
      ]
     },
     "execution_count": 186,
     "metadata": {},
     "output_type": "execute_result"
    }
   ],
   "source": [
    "y"
   ]
  },
  {
   "cell_type": "code",
   "execution_count": null,
   "metadata": {},
   "outputs": [],
   "source": []
  }
 ],
 "metadata": {
  "kernelspec": {
   "display_name": "Python 3",
   "language": "python",
   "name": "python3"
  },
  "language_info": {
   "codemirror_mode": {
    "name": "ipython",
    "version": 3
   },
   "file_extension": ".py",
   "mimetype": "text/x-python",
   "name": "python",
   "nbconvert_exporter": "python",
   "pygments_lexer": "ipython3",
   "version": "3.7.4"
  }
 },
 "nbformat": 4,
 "nbformat_minor": 2
}
